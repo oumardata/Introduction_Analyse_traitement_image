{
 "cells": [
  {
   "cell_type": "markdown",
   "metadata": {},
   "source": [
    "<p align=\"center\" style=\"background-color: white;\">\n",
    "  <img src=\"https://www.groupe-gema.com/wp-content/uploads/2023/06/logo__gema.svg\" alt=\"GEMA\" style=\"width: 600px; height: auto;\">\n",
    "</p>\n",
    "\n",
    "<div style=\"background-color: #3F579F; color: white; padding: 10px;\" id=\"1\">\n",
    "<h1> <center> B2 - Introduction au traitement de l'image </center> </h1>\n",
    "</div>\n",
    "\n",
    "<h5><center> Mars 2025 </center></h5>\n",
    "<h5><center> C. Sureda G. </center></h5>"
   ]
  },
  {
   "cell_type": "markdown",
   "metadata": {},
   "source": [
    "---\n",
    "\n",
    "**<h3> Exercices chapitre 1: Les bases de la représentation des images et des systèmes de couleurs</h3>**\n",
    "\n",
    "---"
   ]
  },
  {
   "cell_type": "markdown",
   "metadata": {},
   "source": [
    "<div style=\"background-color: gold; padding: 10px; border-radius: 5px; color: black\">\n",
    "1. Quel est l'objectif de l'échantillonnage dans la représentation des images numériques ?\n",
    "</div>\n",
    "\n",
    "   - A) Convertir une image en noir et blanc.\n",
    "   - B) Réduire la taille du fichier image.\n",
    "   - C) Capturer des échantillons continus d'une image pour créer une représentation discrète.\n",
    "   - D) Augmenter la résolution de l'image."
   ]
  },
  {
   "cell_type": "markdown",
   "metadata": {},
   "source": [
    "C"
   ]
  },
  {
   "cell_type": "markdown",
   "metadata": {},
   "source": []
  },
  {
   "cell_type": "markdown",
   "metadata": {},
   "source": [
    "<div style=\"background-color: gold; padding: 10px; border-radius: 5px; color: black\">\n",
    "2. Que représente un pixel dans une image numérique ?\n",
    "</div>\n",
    "\n",
    "   - A) Un code couleur unique de l'image.\n",
    "   - B) La plus petite unité de mesure d'une image.\n",
    "   - C) La plus petite partie visible d'une image.\n",
    "   - D) La plus petite partie contrôlable d'une image numérique, qui contient des informations sur la luminosité et la couleur."
   ]
  },
  {
   "cell_type": "markdown",
   "metadata": {},
   "source": [
    "D"
   ]
  },
  {
   "cell_type": "markdown",
   "metadata": {},
   "source": []
  },
  {
   "cell_type": "markdown",
   "metadata": {},
   "source": [
    "<div style=\"background-color: gold; padding: 10px; border-radius: 5px; color: black\">\n",
    "3. Quels sont les composants du système de couleur RGB ?\n",
    "</div>\n",
    "\n",
    "   - A) Rouge, Vert, Bleu.\n",
    "   - B) Rouge, Jaune, Bleu.\n",
    "   - C) Cyan, Magenta, Jaune.\n",
    "   - D) Hue, Saturation, Value."
   ]
  },
  {
   "cell_type": "markdown",
   "metadata": {},
   "source": [
    "A"
   ]
  },
  {
   "cell_type": "markdown",
   "metadata": {},
   "source": []
  },
  {
   "cell_type": "markdown",
   "metadata": {},
   "source": [
    "<div style=\"background-color: gold; padding: 10px; border-radius: 5px; color: black\">\n",
    "4. Pourquoi le système CMYK est-il généralement utilisé dans l'impression ?\n",
    "</div>\n",
    "\n",
    "   - A) Il est basé sur la lumière.\n",
    "   - B) Il offre un meilleur contraste que le RGB.\n",
    "   - C) Il est basé sur des encres et est donc adapté à l'impression.\n",
    "   - D) Il est plus facile à convertir en RGB."
   ]
  },
  {
   "cell_type": "markdown",
   "metadata": {},
   "source": [
    "C"
   ]
  },
  {
   "cell_type": "markdown",
   "metadata": {},
   "source": []
  },
  {
   "cell_type": "markdown",
   "metadata": {},
   "source": [
    "<div style=\"background-color: gold; padding: 10px; border-radius: 5px; color: black\">\n",
    "5. Le modèle HSV représente les couleurs à l'aide de quelle terminologie ?\n",
    "</div>\n",
    "\n",
    "   - A) Hue, Saturation, Value.\n",
    "   - B) Hue, Saturation, Lightness.\n",
    "   - C) Hue, Saturation, Brightness.\n",
    "   - D) High, Standard, Variation."
   ]
  },
  {
   "cell_type": "markdown",
   "metadata": {},
   "source": [
    "A"
   ]
  },
  {
   "cell_type": "markdown",
   "metadata": {},
   "source": []
  },
  {
   "cell_type": "markdown",
   "metadata": {},
   "source": [
    "<div style=\"background-color: gold; padding: 10px; border-radius: 5px; color: black\">\n",
    "6. Qu'est-ce qu'un pavage ou tesselation dans le contexte du traitement d'images ?\n",
    "</div>\n",
    "\n",
    "   - A) Une technique de compression d'images.\n",
    "   - B) Une méthode de conversion d'images en noir et blanc.\n",
    "   - C) Le recouvrement d'une surface ou d'un plan sans chevauchements ni espaces par des formes répétitives.\n",
    "   - D) Un algorithme de tri de pixels par couleur."
   ]
  },
  {
   "cell_type": "markdown",
   "metadata": {},
   "source": [
    "C"
   ]
  },
  {
   "cell_type": "markdown",
   "metadata": {},
   "source": []
  },
  {
   "cell_type": "markdown",
   "metadata": {},
   "source": [
    "<div style=\"background-color: gold; padding: 10px; border-radius: 5px; color: black\">\n",
    "7. Quelle est la principale différence entre la distance euclidienne et la distance de Manhattan ?\n",
    "</div>\n",
    "\n",
    "   - A) La distance euclidienne est plus rapide à calculer.\n",
    "   - B) La distance de Manhattan ne peut être utilisée qu'en 2D.\n",
    "   - C) La distance euclidienne est basée sur le chemin le plus court, tandis que la distance de Manhattan est basée sur des chemins qui suivent une grille.\n",
    "   - D) Il n'y a pas de différence significative entre les deux."
   ]
  },
  {
   "cell_type": "markdown",
   "metadata": {},
   "source": [
    "C"
   ]
  },
  {
   "cell_type": "markdown",
   "metadata": {},
   "source": []
  },
  {
   "cell_type": "markdown",
   "metadata": {},
   "source": [
    "<div style=\"background-color: gold; padding: 10px; border-radius: 5px; color: black\">\n",
    "8. Quelles sont les bibliothèques Python couramment utilisées pour le traitement d'images ?\n",
    "</div>\n",
    "\n",
    "   - A) NumPy et SciPy.\n",
    "   - B) Matplotlib et Seaborn.\n",
    "   - C) Pillow (PIL) et OpenCV.\n",
    "   - D) Pandas et PyTorch."
   ]
  },
  {
   "cell_type": "markdown",
   "metadata": {},
   "source": [
    "C"
   ]
  },
  {
   "cell_type": "markdown",
   "metadata": {},
   "source": []
  },
  {
   "cell_type": "markdown",
   "metadata": {},
   "source": [
    "<div style=\"background-color: gold; padding: 10px; border-radius: 5px; color: black\">\n",
    "9. Quelle est la signification de la quantification dans le contexte du traitement d'images ?\n",
    "</div>\n",
    "\n",
    "   - A) Réduction du nombre d'images dans une série temporelle.\n",
    "   - B) Réduction de la taille physique de l'image.\n",
    "   - C) Conversion d'un signal continu en un signal discret.\n",
    "   - D) Réduction du nombre de couleurs dans une image pour la rendre plus réaliste."
   ]
  },
  {
   "cell_type": "markdown",
   "metadata": {},
   "source": [
    "C"
   ]
  },
  {
   "cell_type": "markdown",
   "metadata": {},
   "source": []
  },
  {
   "cell_type": "markdown",
   "metadata": {},
   "source": [
    "<div style=\"background-color: gold; padding: 10px; border-radius: 5px; color: black\">\n",
    "10. Qu'est-ce que le sous-échantillonnage dans le traitement d'images ?\n",
    "</div>\n",
    "\n",
    "    - A) La réduction de la résolution de l'image par élimination de certains pixels.\n",
    "    - B) L'augmentation de la luminosité de l'image.\n",
    "    - C) La réduction du nombre de bits utilisés pour codifier chaque pixel.\n",
    "    - D) L'augmentation du nombre de pixels dans une image pour la rendre plus nette."
   ]
  },
  {
   "cell_type": "markdown",
   "metadata": {},
   "source": [
    "A"
   ]
  },
  {
   "cell_type": "markdown",
   "metadata": {},
   "source": []
  },
  {
   "cell_type": "markdown",
   "metadata": {},
   "source": [
    "<div style=\"background-color: gold; padding: 10px; border-radius: 5px; color: black\">\n",
    "11. Combien de couleurs peuvent être représentées avec un codage de 8 bits par canal de couleur en RGB ?\n",
    "</div>\n",
    "\n",
    "    - A) 256\n",
    "    - B) 65 536\n",
    "    - C) 16 777 216\n",
    "    - D) 2"
   ]
  },
  {
   "cell_type": "markdown",
   "metadata": {},
   "source": []
  },
  {
   "cell_type": "markdown",
   "metadata": {},
   "source": [
    "C"
   ]
  },
  {
   "cell_type": "markdown",
   "metadata": {},
   "source": [
    "<div style=\"background-color: gold; padding: 10px; border-radius: 5px; color: black\">\n",
    "12. Dans un système de couleur RGB, que représente la couleur (0,0,0) ?\n",
    "</div>\n",
    "\n",
    "    - A) Blanc\n",
    "    - B) Noir\n",
    "    - C) Rouge\n",
    "    - D) Transparent"
   ]
  },
  {
   "cell_type": "markdown",
   "metadata": {},
   "source": [
    "B"
   ]
  },
  {
   "cell_type": "markdown",
   "metadata": {},
   "source": []
  },
  {
   "cell_type": "markdown",
   "metadata": {},
   "source": [
    "<div style=\"background-color: gold; padding: 10px; border-radius: 5px; color: black\">\n",
    "13. Dans un système de couleur CMYK, que représente la couleur (0,0,0,0) ?\n",
    "</div>\n",
    "\n",
    "    - A) Noir\n",
    "    - B) Blanc\n",
    "    - C) Rouge\n",
    "    - D) Transparent"
   ]
  },
  {
   "cell_type": "markdown",
   "metadata": {},
   "source": [
    "B"
   ]
  },
  {
   "cell_type": "markdown",
   "metadata": {},
   "source": []
  },
  {
   "cell_type": "markdown",
   "metadata": {},
   "source": [
    "<div style=\"background-color: gold; padding: 10px; border-radius: 5px; color: black\">\n",
    "14. Dans un système de couleur RGB, que représente la couleur (255,255,255) ?\n",
    "</div>\n",
    "\n",
    "    - A) Noir\n",
    "    - B) Blanc\n",
    "    - C) Rouge\n",
    "    - D) Transparent"
   ]
  },
  {
   "cell_type": "markdown",
   "metadata": {},
   "source": [
    "b"
   ]
  },
  {
   "cell_type": "markdown",
   "metadata": {},
   "source": []
  },
  {
   "cell_type": "markdown",
   "metadata": {},
   "source": [
    "<div style=\"background-color: gold; padding: 10px; border-radius: 5px; color: black\">\n",
    "15. Pourquoi la quantification est-elle une étape nécessaire dans la conversion d'une image analogique en image numérique ?\n",
    "</div>\n",
    "\n",
    "    - A) Elle augmente le contraste de l'image.\n",
    "    - B) Elle diminue la résolution pour un traitement plus rapide.\n",
    "    - C) Elle attribue une valeur discrète à chaque échantillon pour représenter son intensité.\n",
    "    - D) Elle crée un effet artistique en modifiant les teintes de couleur."
   ]
  },
  {
   "cell_type": "markdown",
   "metadata": {},
   "source": [
    "c"
   ]
  },
  {
   "cell_type": "markdown",
   "metadata": {},
   "source": []
  },
  {
   "cell_type": "markdown",
   "metadata": {},
   "source": [
    "\n",
    "<div style=\"background-color: gold; padding: 10px; border-radius: 5px; color: black\">\n",
    "16. Quelle est la différence entre l'échantillonnage et la quantification lors du traitement des signaux d'image ?\n",
    "</div>\n",
    "\n",
    "    - A) L'échantillonnage concerne la sélection de points spécifiques dans l'image, tandis que la quantification concerne l'attribution de valeurs spécifiques de couleur ou d'intensité à ces points.\n",
    "    - B) L'échantillonnage est une opération mathématique, tandis que la quantification est une opération physique sur l'image.\n",
    "    - C) L'échantillonnage ne s'applique qu'aux images en noir et blanc, tandis que la quantification s'applique aux images en couleur.\n",
    "    - D) Il n'y a aucune différence ; les deux termes sont interchangeables."
   ]
  },
  {
   "cell_type": "markdown",
   "metadata": {},
   "source": []
  },
  {
   "cell_type": "markdown",
   "metadata": {},
   "source": [
    "a"
   ]
  }
 ],
 "metadata": {
  "kernelspec": {
   "display_name": "base",
   "language": "python",
   "name": "python3"
  },
  "language_info": {
   "codemirror_mode": {
    "name": "ipython",
    "version": 3
   },
   "file_extension": ".py",
   "mimetype": "text/x-python",
   "name": "python",
   "nbconvert_exporter": "python",
   "pygments_lexer": "ipython3",
   "version": "3.11.7"
  }
 },
 "nbformat": 4,
 "nbformat_minor": 2
}
